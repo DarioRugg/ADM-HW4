{
 "cells": [
  {
   "cell_type": "markdown",
   "metadata": {},
   "source": [
    "# Homework4, 3rd request"
   ]
  },
  {
   "cell_type": "code",
   "execution_count": 133,
   "metadata": {},
   "outputs": [],
   "source": [
    "import numpy #why?\n",
    "import math #useful\n",
    "import random #must\n",
    "import sys #useless"
   ]
  },
  {
   "cell_type": "markdown",
   "metadata": {},
   "source": [
    "# Hi guys, that's what I have done, I've found a way to do the first iteration of the clustering, maybe it sucks maybe not, I will work on this in those days"
   ]
  },
  {
   "cell_type": "code",
   "execution_count": 135,
   "metadata": {},
   "outputs": [],
   "source": [
    "def dist(v1,v2):\n",
    "    distance=math.sqrt(sum([(a-b)**2 for a,b in zip(v1,v2)])) #that's just the euclidean distance\n",
    "    return distance"
   ]
  },
  {
   "cell_type": "code",
   "execution_count": 168,
   "metadata": {},
   "outputs": [],
   "source": [
    "def algo(vm1,vm2,l):\n",
    "    ##Creating the first cluster\n",
    "    \n",
    "    a=random.randint(0,len(l))  #you take an element from the list and you add it into the cluster\n",
    "    c1=[l[a]] #so the cluster now has 1 element\n",
    "    l.remove(l[a]) #then you remove that\n",
    "    \n",
    "    ## Creating the second cluster\n",
    "    \n",
    "    a=random.randint(0,len(l))\n",
    "    c2=[l[a]]\n",
    "    l.remove(l[a])\n",
    "    \n",
    "    \n",
    "    j=len(l)-1 #usefull for the iteration, the lists has 178 rows, we took 2 of them, so we have to iterate the algorithm 176 times\n",
    "    \n",
    "    d1=0 #this two variables will be the euclidean distance\n",
    "    d2=0 \n",
    "    while len(l)!=0:# until we have elements in the matrix we have to continue the algorithm\n",
    "        \n",
    "        indicies=random.randint(0,j) #we take an indicies randomly\n",
    "\n",
    "        for k in range(len(c1)): #for every element in the first cluster we calculate the euclidean distance between the members\n",
    "            d1+=dist(c1[k],l[indicies]) #and the new one\n",
    "        d1=d1/len(c1) #now we have a value\n",
    "        \n",
    "        #we repeat the same process for c2\n",
    "        for k in range(len(c2)):\n",
    "            d2+=dist(c2[k],l[indicies])\n",
    "        d2=d2/len(c2)\n",
    "        \n",
    "        #now we append the item into the cluster that is closer\n",
    "        if d1<d2:\n",
    "            c1.append(l[indicies])\n",
    "        else:\n",
    "            c2.append(l[indicies])\n",
    "            \n",
    "        l.remove(l[indicies]) #we remove the value so we will not take it again\n",
    "        \n",
    "        d1=0 #reset the values\n",
    "        d2=0\n",
    "        j+=-1 #new indicies\n",
    "    #print(c1)\n",
    "    #print(c2)\n",
    "    print(\"Elements:\",len(c1)+len(c2)) #just to be sure that we have all the elements\n",
    "    print(\"Elements in c1:\",len(c1))\n",
    "    print(\"Elements in c2:\",len(c2))\n",
    "    for i in range(len(c1[0])):\n",
    "        vm1.append(round(sum(c1[j][i] for j in range(len(c1)))/len(c1),2)) #here I am, I have the min value of the clusters\n",
    "        vm2.append(round(sum(c2[k][i] for k in range(len(c2)))/len(c2),2))\n",
    "    vm1=[vm1]\n",
    "    vm2=[vm2]\n",
    "    print(\"Vector1:\",vm1)\n",
    "    print(\"Vector2:\",vm2)\n",
    "    \n",
    "    #I think that we need a recoursive function"
   ]
  },
  {
   "cell_type": "code",
   "execution_count": 169,
   "metadata": {
    "scrolled": false
   },
   "outputs": [
    {
     "name": "stdout",
     "output_type": "stream",
     "text": [
      "Elements: 178\n",
      "Elements in c1: 55\n",
      "Elements in c2: 123\n",
      "Vector1: [[1.11, 13.67, 1.87, 2.43, 17.45, 106.29, 2.82, 2.9, 0.29, 1.9, 5.52, 1.07, 3.07, 1151.73]]\n",
      "Vector2: [[2.31, 12.7, 2.54, 2.34, 20.41, 96.81, 2.06, 1.64, 0.39, 1.45, 4.85, 0.91, 2.41, 565.87]]\n"
     ]
    }
   ],
   "source": [
    "l=[]\n",
    "with open(\"wine.data\") as wine: #I have the wine.data on jupyter\n",
    "    for line in wine:\n",
    "        l.append(list(map(float,line.split(\",\")))) #just a way to create the lists of lists\n",
    "algo([],[],l)\n"
   ]
  },
  {
   "cell_type": "code",
   "execution_count": null,
   "metadata": {},
   "outputs": [],
   "source": []
  },
  {
   "cell_type": "code",
   "execution_count": null,
   "metadata": {},
   "outputs": [],
   "source": []
  },
  {
   "cell_type": "code",
   "execution_count": null,
   "metadata": {},
   "outputs": [],
   "source": []
  }
 ],
 "metadata": {
  "kernelspec": {
   "display_name": "Python 3",
   "language": "python",
   "name": "python3"
  },
  "language_info": {
   "codemirror_mode": {
    "name": "ipython",
    "version": 3
   },
   "file_extension": ".py",
   "mimetype": "text/x-python",
   "name": "python",
   "nbconvert_exporter": "python",
   "pygments_lexer": "ipython3",
   "version": "3.7.3"
  }
 },
 "nbformat": 4,
 "nbformat_minor": 2
}
